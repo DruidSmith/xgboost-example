{
 "cells": [
  {
   "cell_type": "markdown",
   "metadata": {},
   "source": [
    "## XGBoost Machine Learning and Predictive Analytics\n",
    "Example of using gradient boosted decision trees for machine learning, also includes iPython Widgets for interactive functionality\n",
    "\n",
    "Adapted from http://machinelearningmastery.com/develop-first-xgboost-model-python-scikit-learn/"
   ]
  },
  {
   "cell_type": "code",
   "execution_count": 35,
   "metadata": {
    "collapsed": false
   },
   "outputs": [],
   "source": [
    "# If necessary, install 'xgboost' for Python if it doesn't already exist - the --user parameter will install it locally.\n",
    "\n",
    "# %%sh\n",
    "# pip install xgboost --user"
   ]
  },
  {
   "cell_type": "code",
   "execution_count": 36,
   "metadata": {
    "collapsed": false
   },
   "outputs": [
    {
     "name": "stdout",
     "output_type": "stream",
     "text": [
      "# packages in environment at /opt/anaconda3:\n",
      "#\n",
      "alabaster                 0.7.7                    py35_0  \n",
      "anaconda-client           1.4.0                    py35_0  \n",
      "anaconda                  custom                   py35_0  \n",
      "anaconda-navigator        1.1.0                    py35_0  \n",
      "argcomplete               1.0.0                    py35_1  \n",
      "astropy                   1.1.2               np110py35_0  \n",
      "babel                     2.2.0                    py35_0  \n",
      "beautifulsoup4            4.4.1                    py35_0  \n",
      "bitarray                  0.8.1                    py35_0  \n",
      "blaze                     0.9.1                    py35_0  \n",
      "bokeh                     0.11.1                   py35_0  \n",
      "boto                      2.39.0                   py35_0  \n",
      "bottleneck                1.0.0               np110py35_0  \n",
      "cairo                     1.12.18                       6  \n",
      "cffi                      1.5.2                    py35_0  \n",
      "chest                     0.2.3                    py35_0  \n",
      "click                     6.6                       <pip>\n",
      "click-plugins             1.0.3                     <pip>\n",
      "cligj                     0.4.0                     <pip>\n",
      "cloudpickle               0.1.1                    py35_0  \n",
      "clyent                    1.2.1                    py35_0  \n",
      "colorama                  0.3.7                    py35_0  \n",
      "conda-build               1.20.0                   py35_0  \n",
      "conda                     4.1.11                   py35_1    conda-forge\n",
      "conda-env                 2.5.2                    py35_0    conda-forge\n",
      "configurable-http-proxy   1.2.0                         0    conda-forge\n",
      "ipywidgets                5.2.2                    py35_0    conda-forge\n",
      "jupyterhub                0.6.1                    py35_0    conda-forge\n",
      "ncurses                   5.9                           7    conda-forge\n",
      "nodejs                    4.4.1                         0    conda-forge\n",
      "notebook                  4.2.2                    py35_0    conda-forge\n",
      "pamela                    0.2.1                    py35_0    conda-forge\n",
      "widgetsnbextension        1.2.6                    py35_3    conda-forge\n",
      "conda-manager             0.3.1                    py35_0  \n",
      "configobj                 5.0.6                    py35_0  \n",
      "cryptography              1.3                      py35_0  \n",
      "curl                      7.45.0                        0  \n",
      "cycler                    0.10.0                   py35_0  \n",
      "cython                    0.23.4                   py35_0  \n",
      "cytoolz                   0.7.5                    py35_0  \n",
      "dask                      0.8.1                    py35_0  \n",
      "datashape                 0.5.1                    py35_0  \n",
      "decorator                 4.0.9                    py35_0  \n",
      "descartes                 1.0.2                     <pip>\n",
      "dill                      0.2.4                    py35_0  \n",
      "docutils                  0.12                     py35_0  \n",
      "dynd-python               0.7.2                    py35_0  \n",
      "et_xmlfile                1.0.1                    py35_0  \n",
      "fastcache                 1.0.2                    py35_0  \n",
      "Fiona                     1.7.0.post2               <pip>\n",
      "flask                     0.10.1                   py35_1  \n",
      "flask-cors                2.1.2                    py35_0  \n",
      "fontconfig                2.11.1                        5  \n",
      "freetype                  2.5.5                         0  \n",
      "geopandas                 0.2.1                     <pip>\n",
      "gevent                    1.1.0                    py35_0  \n",
      "greenlet                  0.4.9                    py35_0  \n",
      "h5py                      2.5.0               np110py35_4  \n",
      "harfbuzz                  0.9.39                        0  \n",
      "hdf5                      1.8.15.1                      2  \n",
      "heapdict                  1.0.0                    py35_0  \n",
      "idna                      2.0                      py35_0  \n",
      "ipykernel                 4.3.1                    py35_0  \n",
      "ipython                   4.1.2                    py35_1  \n",
      "ipython_genutils          0.1.0                    py35_0  \n",
      "itsdangerous              0.24                     py35_0  \n",
      "jbig                      2.1                           0  \n",
      "jdcal                     1.2                      py35_0  \n",
      "jedi                      0.9.0                    py35_0  \n",
      "jinja2                    2.8                      py35_0  \n",
      "jpeg                      8d                            0  \n",
      "jsonschema                2.4.0                    py35_0  \n",
      "jupyter                   1.0.0                    py35_3  \n",
      "jupyter_client            4.2.2                    py35_0  \n",
      "jupyter_console           4.1.1                    py35_0  \n",
      "jupyter_core              4.1.0                    py35_0  \n",
      "libdynd                   0.7.2                         0  \n",
      "libffi                    3.0.13                        0  \n",
      "libgcc                    5.2.0                         0  \n",
      "libgfortran               3.0                           0  \n",
      "libpng                    1.6.17                        0  \n",
      "libsodium                 1.0.3                         0  \n",
      "libtiff                   4.0.6                         2  \n",
      "libxml2                   2.9.2                         0  \n",
      "libxslt                   1.1.28                        0  \n",
      "llvmlite                  0.9.0                    py35_0  \n",
      "locket                    0.2.0                    py35_0  \n",
      "lxml                      3.6.0                    py35_0  \n",
      "markupsafe                0.23                     py35_0  \n",
      "matplotlib                1.5.1               np110py35_0  \n",
      "mistune                   0.7.2                    py35_0  \n",
      "mkl                       11.3.1                        0  \n",
      "mkl-service               1.1.2                    py35_0  \n",
      "mpmath                    0.19                     py35_0  \n",
      "multipledispatch          0.4.8                    py35_0  \n",
      "munch                     2.0.4                     <pip>\n",
      "nbconvert                 4.1.0                    py35_0  \n",
      "nbformat                  4.0.1                    py35_0  \n",
      "networkx                  1.11                     py35_0  \n",
      "nltk                      3.2                      py35_0  \n",
      "nose                      1.3.7                    py35_0  \n",
      "numba                     0.24.0              np110py35_0  \n",
      "numexpr                   2.5                 np110py35_0  \n",
      "numpy                     1.10.4                   py35_1  \n",
      "odo                       0.4.2                    py35_0  \n",
      "openpyxl                  2.3.2                    py35_0  \n",
      "openssl                   1.0.2g                        0  \n",
      "armadillo                 5.200.2                       1    osgeo\n",
      "gdal                      1.11.2                  py35_18    osgeo\n",
      "geos                      3.4.2                         0    osgeo\n",
      "hdf4                      4.2.11                        3    osgeo\n",
      "libnetcdf                 4.3.3.1                      11    osgeo\n",
      "openjpeg                  2.1.0                         0    osgeo\n",
      "rgdal                     1.0.7                  r3.2.2_0    osgeo\n",
      "rsp                       1.2.0                  r3.2.2_1    osgeo\n",
      "xerces-c                  3.1.1                         0    osgeo\n",
      "pandas                    0.18.0              np110py35_0  \n",
      "pango                     1.39.0                        0  \n",
      "partd                     0.3.2                    py35_1  \n",
      "patchelf                  0.8                           0  \n",
      "path.py                   8.1.2                    py35_1  \n",
      "patsy                     0.4.0               np110py35_0  \n",
      "pcre                      8.31                          0  \n",
      "pep8                      1.7.0                    py35_0  \n",
      "pexpect                   4.0.1                    py35_0  \n",
      "pickleshare               0.5                      py35_0  \n",
      "pillow                    3.1.1                    py35_0  \n",
      "pip                       8.1.1                    py35_1  \n",
      "pip                       8.1.2                     <pip>\n",
      "pixman                    0.32.6                        0  \n",
      "ply                       3.8                      py35_0  \n",
      "proj4                     4.9.1                         0  \n",
      "psutil                    4.1.0                    py35_0  \n",
      "ptyprocess                0.5                      py35_0  \n",
      "py                        1.4.31                   py35_0  \n",
      "py4j                      0.10.1                    <pip>\n",
      "pyasn1                    0.1.9                    py35_0  \n",
      "pycosat                   0.6.1                    py35_0  \n",
      "pycparser                 2.14                     py35_0  \n",
      "pycrypto                  2.6.1                    py35_0  \n",
      "pycurl                    7.19.5.3                 py35_0  \n",
      "pyflakes                  1.1.0                    py35_0  \n",
      "pygments                  2.1.1                    py35_0  \n",
      "pyopenssl                 0.15.1                   py35_2  \n",
      "pyparsing                 2.0.3                    py35_0  \n",
      "pyproj                    1.9.5.1                   <pip>\n",
      "pyqt                      4.11.4                   py35_1  \n",
      "pytables                  3.2.2               np110py35_1  \n",
      "pytest                    2.8.5                    py35_0  \n",
      "python                    3.5.2                         0  \n",
      "python-dateutil           2.5.1                    py35_0  \n",
      "pytz                      2016.2                   py35_0  \n",
      "pyyaml                    3.11                     py35_1  \n",
      "pyzmq                     15.2.0                   py35_0  \n",
      "qt                        4.8.7                         1  \n",
      "qtawesome                 0.3.2                    py35_0  \n",
      "qtconsole                 4.2.0                    py35_0  \n",
      "qtpy                      1.0                      py35_0  \n",
      "glib                      2.43.0                        2    r\n",
      "nlopt                     2.4.2                         1    r\n",
      "r                         3.2.2                         0    r\n",
      "r-assertthat              0.1                   r3.2.2_1a    r\n",
      "r-base                    3.2.2                         0    r\n",
      "r-base64enc               0.1_3                 r3.2.2_0a    r\n",
      "r-bh                      1.58.0_1              r3.2.2_0a    r\n",
      "r-bitops                  1.0_6                 r3.2.2_1a    r\n",
      "r-boot                    1.3_17                r3.2.2_0a    r\n",
      "r-car                     2.1_0                 r3.2.2_0a    r\n",
      "r-caret                   6.0_62                r3.2.2_0a    r\n",
      "r-catools                 1.17.1                r3.2.2_2a    r\n",
      "r-chron                   2.3_47                r3.2.2_0a    r\n",
      "r-class                   7.3_14                r3.2.2_0a    r\n",
      "r-cluster                 2.0.3                 r3.2.2_0a    r\n",
      "r-codetools               0.2_14                r3.2.2_0a    r\n",
      "r-colorspace              1.2_6                 r3.2.2_0a    r\n",
      "r-data.table              1.9.6                 r3.2.2_0a    r\n",
      "r-dbi                     0.3.1                 r3.2.2_2a    r\n",
      "r-dichromat               2.0_0                 r3.2.2_2a    r\n",
      "r-digest                  0.6.8                 r3.2.2_2a    r\n",
      "r-dplyr                   0.4.3                 r3.2.2_0a    r\n",
      "r-essentials              1.1                   r3.2.2_1a    r\n",
      "r-evaluate                0.8                   r3.2.2_0a    r\n",
      "r-foreach                 1.4.3                 r3.2.2_0a    r\n",
      "r-foreign                 0.8_66                r3.2.2_0a    r\n",
      "r-formatr                 1.2.1                 r3.2.2_0a    r\n",
      "r-ggplot2                 1.0.1                 r3.2.2_0a    r\n",
      "r-glmnet                  2.0_2                 r3.2.2_0a    r\n",
      "r-gtable                  0.1.2                 r3.2.2_2a    r\n",
      "r-hexbin                  1.27.1                r3.2.2_0a    r\n",
      "r-highr                   0.5.1                 r3.2.2_0a    r\n",
      "r-htmltools               0.2.6                 r3.2.2_2a    r\n",
      "r-htmlwidgets             0.5                   r3.2.2_0a    r\n",
      "r-httpuv                  1.3.3                 r3.2.2_0a    r\n",
      "r-irdisplay               0.3                   r3.2.2_0a    r\n",
      "r-irkernel                0.5                    r3.2.2_2    r\n",
      "r-iterators               1.0.8                 r3.2.2_0a    r\n",
      "r-jsonlite                0.9.17                r3.2.2_0a    r\n",
      "r-kernsmooth              2.23_15               r3.2.2_0a    r\n",
      "r-knitr                   1.11                  r3.2.2_0a    r\n",
      "r-labeling                0.3                   r3.2.2_1a    r\n",
      "r-lattice                 0.20_33               r3.2.2_0a    r\n",
      "r-lazyeval                0.1.10                r3.2.2_2a    r\n",
      "r-lme4                    1.1_10                r3.2.2_0a    r\n",
      "r-magrittr                1.5                   r3.2.2_1a    r\n",
      "r-maps                    3.0.0_2               r3.2.2_0a    r\n",
      "r-markdown                0.7.7                 r3.2.2_1a    r\n",
      "r-mass                    7.3_45                r3.2.2_0a    r\n",
      "r-matrix                  1.2_2                 r3.2.2_0a    r\n",
      "r-matrixmodels            0.4_1                 r3.2.2_0a    r\n",
      "r-mgcv                    1.8_9                 r3.2.2_0a    r\n",
      "r-mime                    0.4                   r3.2.2_0a    r\n",
      "r-minqa                   1.2.4                 r3.2.2_1a    r\n",
      "r-munsell                 0.4.2                 r3.2.2_1a    r\n",
      "r-nlme                    3.1_122               r3.2.2_0a    r\n",
      "r-nloptr                  1.0.4                 r3.2.2_1a    r\n",
      "r-nnet                    7.3_11                r3.2.2_0a    r\n",
      "r-pbkrtest                0.4_2                 r3.2.2_2a    r\n",
      "r-plyr                    1.8.3                 r3.2.2_0a    r\n",
      "r-proto                   0.3_10                r3.2.2_1a    r\n",
      "r-quantmod                0.4_5                 r3.2.2_0a    r\n",
      "r-quantreg                5.19                  r3.2.2_0a    r\n",
      "r-r6                      2.1.1                 r3.2.2_0a    r\n",
      "r-randomforest            4.6_12                r3.2.2_0a    r\n",
      "r-rbokeh                  0.2.2                 r3.2.2_0a    r\n",
      "r-rcolorbrewer            1.1_2                 r3.2.2_2a    r\n",
      "r-rcpp                    0.12.2                r3.2.2_0a    r\n",
      "r-rcppeigen               0.3.2.5.1             r3.2.2_0a    r\n",
      "r-recommended             3.2.2                  r3.2.2_0    r\n",
      "r-repr                    0.3                   r3.2.2_0a    r\n",
      "r-reshape2                1.4.1                 r3.2.2_1a    r\n",
      "r-rjsonio                 1.3_0                 r3.2.2_1a    r\n",
      "r-rmarkdown               0.8.1                 r3.2.2_0a    r\n",
      "r-rpart                   4.1_10                r3.2.2_0a    r\n",
      "r-rzmq                    0.7.7                 r3.2.2_3a    r\n",
      "r-scales                  0.3.0                 r3.2.2_0a    r\n",
      "r-shiny                   0.12.2                r3.2.2_0a    r\n",
      "r-sparsem                 1.7                   r3.2.2_0a    r\n",
      "r-spatial                 7.3_11                r3.2.2_0a    r\n",
      "r-stringi                 1.0_1                 r3.2.2_0a    r\n",
      "r-stringr                 1.0.0                 r3.2.2_0a    r\n",
      "r-survival                2.38_3                r3.2.2_0a    r\n",
      "r-tidyr                   0.3.1                 r3.2.2_0a    r\n",
      "r-ttr                     0.23_0                r3.2.2_0a    r\n",
      "r-uuid                    0.1_2                 r3.2.2_0a    r\n",
      "r-xtable                  1.8_0                 r3.2.2_0a    r\n",
      "r-xts                     0.9_7                 r3.2.2_0a    r\n",
      "r-yaml                    2.1.13                r3.2.2_1a    r\n",
      "r-zoo                     1.7_12                r3.2.2_1a    r\n",
      "readline                  6.2                           2  \n",
      "redis                     2.6.9                         0  \n",
      "redis-py                  2.10.3                   py35_0  \n",
      "requests                  2.9.1                    py35_0  \n",
      "rope                      0.9.4                    py35_1  \n",
      "ruamel_yaml               0.11.7                   py35_0  \n",
      "scikit-image              0.12.3              np110py35_0  \n",
      "scikit-learn              0.17.1              np110py35_0  \n",
      "scipy                     0.17.0              np110py35_2  \n",
      "setuptools                20.3                     py35_0  \n",
      "Shapely                   1.5.16                    <pip>\n",
      "simplegeneric             0.8.1                    py35_0  \n",
      "singledispatch            3.4.0.3                  py35_0  \n",
      "sip                       4.16.9                   py35_0  \n",
      "six                       1.10.0                   py35_0  \n",
      "snowballstemmer           1.2.1                    py35_0  \n",
      "sockjs-tornado            1.0.1                    py35_0  \n",
      "sphinx                    1.3.5                    py35_0  \n",
      "sphinx_rtd_theme          0.1.9                    py35_0  \n",
      "spyder                    2.3.8                    py35_1  \n",
      "sqlalchemy                1.0.12                   py35_0  \n",
      "sqlite                    3.13.0                        0  \n",
      "statsmodels               0.6.1               np110py35_0  \n",
      "sudospawner               0.3.0.dev0                <pip>\n",
      "sympy                     1.0                      py35_0  \n",
      "terminado                 0.5                      py35_1  \n",
      "tk                        8.5.18                        0  \n",
      "toolz                     0.7.4                    py35_0  \n",
      "tornado                   4.3                      py35_0  \n",
      "traitlets                 4.2.1                    py35_0  \n",
      "unicodecsv                0.14.1                   py35_0  \n",
      "util-linux                2.21                          0  \n",
      "werkzeug                  0.11.4                   py35_0  \n",
      "wheel                     0.29.0                   py35_0  \n",
      "xlrd                      0.9.4                    py35_0  \n",
      "xlsxwriter                0.8.4                    py35_0  \n",
      "xlwt                      1.0.0                    py35_0  \n",
      "xz                        5.2.2                         0  \n",
      "yaml                      0.1.6                         0  \n",
      "zeromq                    4.1.3                         0  \n",
      "zlib                      1.2.8                         0  \n"
     ]
    },
    {
     "name": "stderr",
     "output_type": "stream",
     "text": [
      "Using Anaconda Cloud api site https://api.anaconda.org\n"
     ]
    }
   ],
   "source": [
    "%%sh\n",
    "conda list\n"
   ]
  },
  {
   "cell_type": "code",
   "execution_count": 37,
   "metadata": {
    "collapsed": false
   },
   "outputs": [],
   "source": [
    "# %%sh\n",
    "# pip install ipywidgets --user\n",
    "# jupyter nbextension enable --py widgetsnbextension"
   ]
  },
  {
   "cell_type": "code",
   "execution_count": 38,
   "metadata": {
    "collapsed": true
   },
   "outputs": [],
   "source": [
    "# Update the system path so that the locally installed xgboost module can be found - \n",
    "# note that this needs to be changed to reflect your own user path\n",
    "\n",
    "import sys \n",
    "import os\n",
    "sys.path.append(os.path.abspath(\"/home/ad.edap-cluster.com/dsmith04/.local/lib/python3.5/site-packages\"))"
   ]
  },
  {
   "cell_type": "code",
   "execution_count": 39,
   "metadata": {
    "collapsed": true
   },
   "outputs": [],
   "source": [
    "# Import classes and functions we will use for analysis\n",
    "\n",
    "import numpy as np\n",
    "import xgboost\n",
    "from sklearn import cross_validation\n",
    "from sklearn.metrics import accuracy_score"
   ]
  },
  {
   "cell_type": "code",
   "execution_count": 40,
   "metadata": {
    "collapsed": true
   },
   "outputs": [],
   "source": [
    "# Import widget functionality\n",
    "\n",
    "from ipywidgets import *"
   ]
  },
  {
   "cell_type": "markdown",
   "metadata": {},
   "source": [
    "### Decision Tree\n",
    "\n",
    "http://xgboost.readthedocs.io/en/latest/model.html\n",
    "\n",
    "![Tree](https://raw.githubusercontent.com/dmlc/web-data/master/xgboost/model/cart.png)"
   ]
  },
  {
   "cell_type": "markdown",
   "metadata": {},
   "source": [
    "We will be using the Pima Indian Diabetes dataset from the UC Irvine Machine Learning Repository - https://archive.ics.uci.edu/ml/datasets/Pima+Indians+Diabetes \n",
    "For the purposes of this app, I downloaded it and uploaded it into the same Jupyter folder with the notebook"
   ]
  },
  {
   "cell_type": "code",
   "execution_count": 41,
   "metadata": {
    "collapsed": false
   },
   "outputs": [],
   "source": [
    "# Load the data - \n",
    "\n",
    "dataset = np.loadtxt(\"pima-indians-diabetes.data.txt\", delimiter=\",\")"
   ]
  },
  {
   "cell_type": "markdown",
   "metadata": {},
   "source": [
    "### Dataset:\n",
    "https://archive.ics.uci.edu/ml/machine-learning-databases/pima-indians-diabetes/pima-indians-diabetes.data\n",
    "\n",
    "### Observation Values:\n",
    "1. Number of times pregnant \n",
    "2. Plasma glucose concentration a 2 hours in an oral glucose tolerance test \n",
    "3. Diastolic blood pressure (mm Hg) \n",
    "4. Triceps skin fold thickness (mm) \n",
    "5. 2-Hour serum insulin (mu U/ml) \n",
    "6. Body mass index (weight in kg/(height in m)^2) \n",
    "7. Diabetes pedigree function \n",
    "8. Age (years) \n",
    "\n",
    "### Output Field\n",
    "* Diabetes Outcome (Binary 1/0)"
   ]
  },
  {
   "cell_type": "code",
   "execution_count": 42,
   "metadata": {
    "collapsed": true
   },
   "outputs": [],
   "source": [
    "# in the first set of columns are the input variables, in the last column is the outcome\n",
    "# We must separate the columns (attributes or features) of the dataset into input patterns (X) \n",
    "# and output patterns (Y). We can do this easily by specifying the column indices in the NumPy array format.\n",
    "\n",
    "# split data into X (observations) and y (outcome)\n",
    "X = dataset[:,0:8]\n",
    "Y = dataset[:,8]"
   ]
  },
  {
   "cell_type": "code",
   "execution_count": 43,
   "metadata": {
    "collapsed": true
   },
   "outputs": [],
   "source": [
    "# split data into training and test sets\n",
    "seed = 7\n",
    "test_size = 0.25\n",
    "X_train, X_test, y_train, y_test = cross_validation.train_test_split(X, Y, test_size=test_size, random_state=seed)"
   ]
  },
  {
   "cell_type": "code",
   "execution_count": 44,
   "metadata": {
    "collapsed": false
   },
   "outputs": [
    {
     "data": {
      "text/plain": [
       "XGBClassifier(base_score=0.5, colsample_bylevel=1, colsample_bytree=1,\n",
       "       gamma=0, learning_rate=0.1, max_delta_step=0, max_depth=3,\n",
       "       min_child_weight=1, missing=None, n_estimators=100, nthread=-1,\n",
       "       objective='binary:logistic', reg_alpha=0, reg_lambda=1,\n",
       "       scale_pos_weight=1, seed=0, silent=True, subsample=1)"
      ]
     },
     "execution_count": 44,
     "metadata": {},
     "output_type": "execute_result"
    }
   ],
   "source": [
    "# Train the model - in Jupyter this will also print the model parameters\n",
    "model = xgboost.XGBClassifier()\n",
    "model.fit(X_train, y_train)"
   ]
  },
  {
   "cell_type": "code",
   "execution_count": 45,
   "metadata": {
    "collapsed": true
   },
   "outputs": [],
   "source": [
    "# make predictions for test data\n",
    "y_pred = model.predict(X_test)\n",
    "predictions = [round(value) for value in y_pred]"
   ]
  },
  {
   "cell_type": "code",
   "execution_count": 46,
   "metadata": {
    "collapsed": false
   },
   "outputs": [
    {
     "name": "stdout",
     "output_type": "stream",
     "text": [
      "Accuracy: 78.12%\n"
     ]
    }
   ],
   "source": [
    "# evaluate model's predictions\n",
    "accuracy = accuracy_score(y_test, predictions)\n",
    "print(\"Accuracy: %.2f%%\" % (accuracy * 100.0))"
   ]
  },
  {
   "cell_type": "markdown",
   "metadata": {},
   "source": [
    "Compare accuracy estimate http://www.is.umk.pl/projects/datasets.html#Diabetes"
   ]
  },
  {
   "cell_type": "code",
   "execution_count": 47,
   "metadata": {
    "collapsed": true
   },
   "outputs": [],
   "source": [
    "def ipredict(npreg,gluc,bp,skin,insulin,bmi,diab,age):\n",
    "    my_vals=np.array([[npreg,gluc,bp,skin,insulin,bmi,diab,age],[0.0,0.0,0.0,0.0,0.0,0.0,0.0,0.0]])\n",
    "    modresult=model.predict(my_vals)[0]\n",
    "    if modresult > 0:\n",
    "        result=\"Model Prediction: Diabetes\"\n",
    "    else:\n",
    "        result=\"Model Prediction: No Diabetes\"\n",
    "    return result"
   ]
  },
  {
   "cell_type": "code",
   "execution_count": 24,
   "metadata": {
    "collapsed": false
   },
   "outputs": [
    {
     "name": "stdout",
     "output_type": "stream",
     "text": [
      "Model Prediction: No Diabetes\n"
     ]
    }
   ],
   "source": [
    "my_pred = ipredict(2,70,72,35,0,33.6,0.627,36)\n",
    "print (my_pred)"
   ]
  },
  {
   "cell_type": "code",
   "execution_count": 26,
   "metadata": {
    "collapsed": false
   },
   "outputs": [
    {
     "data": {
      "text/plain": [
       "'Model Prediction: Diabetes'"
      ]
     },
     "metadata": {},
     "output_type": "display_data"
    }
   ],
   "source": [
    "interact(ipredict, npreg=(0,6), gluc=(0,200), bp=(22,122), skin=(0,46), insulin=(0,60), bmi=(0,64), diab=(0,2), age=(21,81));"
   ]
  },
  {
   "cell_type": "code",
   "execution_count": null,
   "metadata": {
    "collapsed": true
   },
   "outputs": [],
   "source": []
  }
 ],
 "metadata": {
  "kernelspec": {
   "display_name": "Python 3",
   "language": "python",
   "name": "python3"
  },
  "language_info": {
   "codemirror_mode": {
    "name": "ipython",
    "version": 3
   },
   "file_extension": ".py",
   "mimetype": "text/x-python",
   "name": "python",
   "nbconvert_exporter": "python",
   "pygments_lexer": "ipython3",
   "version": "3.5.2"
  },
  "widgets": {
   "state": {
    "9e2a56d47a18422b9c8883b722f65466": {
     "views": [
      {
       "cell_index": 19
      }
     ]
    }
   },
   "version": "1.2.0"
  }
 },
 "nbformat": 4,
 "nbformat_minor": 0
}
